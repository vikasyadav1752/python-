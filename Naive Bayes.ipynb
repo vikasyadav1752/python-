{
 "cells": [
  {
   "cell_type": "code",
   "execution_count": 1,
   "id": "84d5a6f2",
   "metadata": {},
   "outputs": [
    {
     "name": "stdout",
     "output_type": "stream",
     "text": [
      "Message: 'cheap meds now'\n",
      "Predicted Class: Spam\n",
      "Probabilities: Spam=0.92, Not Spam=0.08\n",
      "\n",
      "Message: 'schedule a meeting'\n",
      "Predicted Class: Not Spam\n",
      "Probabilities: Spam=0.11, Not Spam=0.89\n",
      "\n",
      "Message: 'project schedule'\n",
      "Predicted Class: Not Spam\n",
      "Probabilities: Spam=0.16, Not Spam=0.84\n",
      "\n",
      "Message: 'discount online pills'\n",
      "Predicted Class: Spam\n",
      "Probabilities: Spam=0.84, Not Spam=0.16\n",
      "\n",
      "Message: 'meeting now'\n",
      "Predicted Class: Not Spam\n",
      "Probabilities: Spam=0.43, Not Spam=0.57\n",
      "\n"
     ]
    }
   ],
   "source": [
    "from sklearn.feature_extraction.text import CountVectorizer\n",
    "from sklearn.naive_bayes import MultinomialNB\n",
    "from sklearn.pipeline import make_pipeline\n",
    "\n",
    "# dataset\n",
    "texts = [\n",
    "    \"buy cheap meds now\",\n",
    "    \"cheap pills online\",\n",
    "    \"get discount now\",\n",
    "    \"meeting at office\",\n",
    "    \"project discussion\",\n",
    "    \"schedule a meeting\"\n",
    "]\n",
    "\n",
    "labels = [\"Spam\", \"Spam\", \"Spam\", \"Not Spam\", \"Not Spam\", \"Not Spam\"]\n",
    "\n",
    "# Create a model pipeline\n",
    "model = make_pipeline(CountVectorizer(), MultinomialNB(alpha=1.0))  # Laplace smoothing with alpha=1\n",
    "\n",
    "# Train the model\n",
    "model.fit(texts, labels)\n",
    "\n",
    "# Test messages\n",
    "test_messages = [\n",
    "    \"cheap meds now\",\n",
    "    \"schedule a meeting\",\n",
    "    \"project schedule\",\n",
    "    \"discount online pills\",\n",
    "    \"meeting now\"\n",
    "]\n",
    "\n",
    "# Make predictions\n",
    "predicted = model.predict(test_messages)\n",
    "probs = model.predict_proba(test_messages)\n",
    "\n",
    "# Display results\n",
    "for msg, label, prob in zip(test_messages, predicted, probs):\n",
    "    print(f\"Message: '{msg}'\")\n",
    "    print(f\"Predicted Class: {label}\")\n",
    "    print(f\"Probabilities: Spam={prob[model.classes_.tolist().index('Spam')]:.2f}, Not Spam={prob[model.classes_.tolist().index('Not Spam')]:.2f}\\n\")\n"
   ]
  },
  {
   "cell_type": "code",
   "execution_count": null,
   "id": "04ec2bbe",
   "metadata": {},
   "outputs": [],
   "source": []
  }
 ],
 "metadata": {
  "kernelspec": {
   "display_name": "Python 3 (ipykernel)",
   "language": "python",
   "name": "python3"
  },
  "language_info": {
   "codemirror_mode": {
    "name": "ipython",
    "version": 3
   },
   "file_extension": ".py",
   "mimetype": "text/x-python",
   "name": "python",
   "nbconvert_exporter": "python",
   "pygments_lexer": "ipython3",
   "version": "3.9.12"
  }
 },
 "nbformat": 4,
 "nbformat_minor": 5
}
