{
 "cells": [
  {
   "cell_type": "code",
   "execution_count": 4,
   "id": "d0223fc0-1820-4d31-86ff-ac16eca0bc9a",
   "metadata": {},
   "outputs": [
    {
     "name": "stdout",
     "output_type": "stream",
     "text": [
      "    * \n",
      "   * * \n",
      "  * * * \n",
      " * * * * \n"
     ]
    }
   ],
   "source": [
    "num = 5\n",
    "for i in range (1,5):\n",
    "    for j in range (i,num):\n",
    "        print(\" \",end = \"\")\n",
    "\n",
    "    for k in range (1,i+1):\n",
    "        print(\"*\",end = \" \")\n",
    "\n",
    "    print(\"\")\n",
    "    "
   ]
  },
  {
   "cell_type": "code",
   "execution_count": 25,
   "id": "c07192f7-d332-4222-827f-37cbdc6430d6",
   "metadata": {},
   "outputs": [
    {
     "name": "stdout",
     "output_type": "stream",
     "text": [
      "* * * * \n",
      " * * * \n",
      "  * * \n",
      "   * \n"
     ]
    }
   ],
   "source": [
    "num = 5\n",
    "for i in range (5,1,-1):\n",
    "    for j in range (i,5):\n",
    "        print(\" \",end = '')\n",
    "    \n",
    "    for k in range (1,i):\n",
    "        print(\"*\",end = \" \")\n",
    "\n",
    "    print(\"\")"
   ]
  },
  {
   "cell_type": "code",
   "execution_count": 35,
   "id": "4783ddb2-6c29-466f-b401-4e9b860a2990",
   "metadata": {},
   "outputs": [
    {
     "name": "stdout",
     "output_type": "stream",
     "text": [
      "    * \n",
      "   * * \n",
      "  * * * \n",
      " * * * * \n",
      "* * * * * \n"
     ]
    }
   ],
   "source": [
    "num = 5\n",
    "for i in range (1,num+1):\n",
    "    for j in range (i,5):\n",
    "        print(\" \",end = '')\n",
    "    \n",
    "    for k in range (1,i+1):\n",
    "        print(\"*\",end = \" \")\n",
    "\n",
    "    print(\"\")"
   ]
  },
  {
   "cell_type": "code",
   "execution_count": 38,
   "id": "19566a06-ac97-4d00-9a1f-0991da5def81",
   "metadata": {},
   "outputs": [
    {
     "name": "stdout",
     "output_type": "stream",
     "text": [
      "- - - * \n",
      "- - * * * \n",
      "- * * * * * \n",
      "* * * * * * * \n"
     ]
    }
   ],
   "source": [
    "num = 4\n",
    "count = 1\n",
    "for i in range (1,num+1):\n",
    "    for j in range (i,4):\n",
    "        print(\"-\",end = \" \")\n",
    "\n",
    "    for k in range (1,count+1):\n",
    "        print(\"*\",end= \" \")\n",
    "    count+=2\n",
    "    print()"
   ]
  },
  {
   "cell_type": "code",
   "execution_count": 41,
   "id": "6e104fed-c090-43d2-b150-399c04b27bc6",
   "metadata": {},
   "outputs": [
    {
     "name": "stdout",
     "output_type": "stream",
     "text": [
      "- - - * \n",
      "- - * * * \n",
      "- * * * * * \n",
      "* * * * * * * \n"
     ]
    }
   ],
   "source": [
    "num = 4\n",
    "for i in range (1,num+1):\n",
    "    for j in range (i,4):\n",
    "        print(\"-\",end = \" \")\n",
    "\n",
    "    for k in range (1,2*i):\n",
    "        print(\"*\",end= \" \")\n",
    "    \n",
    "    print()"
   ]
  },
  {
   "cell_type": "code",
   "execution_count": 61,
   "id": "db3f83b8-ae25-4de4-9280-b9bd09696e28",
   "metadata": {},
   "outputs": [
    {
     "name": "stdout",
     "output_type": "stream",
     "text": [
      "* * * * * * * \n",
      "- * * * * * \n",
      "- - * * * \n",
      "- - - * \n"
     ]
    }
   ],
   "source": [
    "num = 4\n",
    "for i in range (num,0,-1):\n",
    "    for j in range (i,num):\n",
    "        print(\"-\",end = \" \")\n",
    "\n",
    "    for k in range (1,2*i):\n",
    "        print(\"*\",end= \" \")\n",
    "    \n",
    "    print(\"\")"
   ]
  },
  {
   "cell_type": "code",
   "execution_count": 65,
   "id": "a48f34fe-63f4-4336-9b7a-c781c10f214b",
   "metadata": {},
   "outputs": [
    {
     "name": "stdout",
     "output_type": "stream",
     "text": [
      "* * * * * * * \n",
      "- * * * * * \n",
      "- - * * * \n",
      "- - - * \n"
     ]
    }
   ],
   "source": [
    "num = 4\n",
    "total = 2*num\n",
    "for i in range (1,num+1):\n",
    "    for j in range (1,i):\n",
    "        print(\"-\",end = \" \")\n",
    "\n",
    "    for k in range (1,total):\n",
    "        print(\"*\",end= \" \")\n",
    "    total -= 2\n",
    "    print(\"\")"
   ]
  },
  {
   "cell_type": "code",
   "execution_count": 83,
   "id": "fc1e7b65-f06f-4ac4-a11a-5fa791719d03",
   "metadata": {},
   "outputs": [
    {
     "name": "stdout",
     "output_type": "stream",
     "text": [
      "* \n",
      "* * \n",
      "*   * \n",
      "*     * \n",
      "* * * * * \n"
     ]
    }
   ],
   "source": [
    "num = 5\n",
    "for i in range (0,5):\n",
    "    for j in range (0,i+1):\n",
    "        if j == 0 or j==5 or i==j or i==num-1:\n",
    "            print(\"*\" ,end = \" \")\n",
    "        else :\n",
    "            print(\" \", end = \" \")\n",
    "        \n",
    "\n",
    "    print()"
   ]
  },
  {
   "cell_type": "code",
   "execution_count": 109,
   "id": "b142f160-1e51-4673-822a-b2586631c475",
   "metadata": {},
   "outputs": [
    {
     "name": "stdout",
     "output_type": "stream",
     "text": [
      "* * * * * \n",
      "*     * \n",
      "*   * \n",
      "* * \n",
      "* \n"
     ]
    }
   ],
   "source": [
    "num = 5\n",
    "for i in range (5,0,-1):\n",
    "    for j in range (1,i+1):\n",
    "        if i == 1 or i==5 or i==j  or j==1:\n",
    "            print(\"*\" ,end = \" \")\n",
    "        else :\n",
    "            print(\" \", end = \" \")\n",
    "        \n",
    "\n",
    "    print()"
   ]
  },
  {
   "cell_type": "code",
   "execution_count": 102,
   "id": "e38c3422-2bca-4df9-a384-4fbf12158738",
   "metadata": {},
   "outputs": [
    {
     "name": "stdout",
     "output_type": "stream",
     "text": [
      "* \n",
      "* * \n",
      "*   * \n",
      "*     * \n",
      "* * * * * \n"
     ]
    }
   ],
   "source": [
    "num = 5\n",
    "for i in range (1,num+1):\n",
    "    for j in range (1,i+1):\n",
    "        if j == 1 or i==j or i==num:\n",
    "            print(\"*\" ,end = \" \")\n",
    "        else :\n",
    "            print(\" \", end = \" \")\n",
    "        \n",
    "\n",
    "    print()"
   ]
  },
  {
   "cell_type": "code",
   "execution_count": 110,
   "id": "55a67be1-eb21-4dea-b01b-f743b933c9c4",
   "metadata": {},
   "outputs": [
    {
     "name": "stdout",
     "output_type": "stream",
     "text": [
      "* * * * * \n",
      "  *     * \n",
      "    *   * \n",
      "      * * \n",
      "        * \n"
     ]
    }
   ],
   "source": [
    "num = 5\n",
    "for i in range (1,num+1):\n",
    "    for j in range (1,num+1):\n",
    "        if i == 1 or j==i or j==num :\n",
    "            print(\"*\" ,end = \" \")\n",
    "        else :\n",
    "            print(\" \", end = \" \")\n",
    "        \n",
    "\n",
    "    print()"
   ]
  },
  {
   "cell_type": "code",
   "execution_count": 112,
   "id": "d0690ddb-8174-49da-8c17-31f49f4b26a7",
   "metadata": {},
   "outputs": [
    {
     "name": "stdout",
     "output_type": "stream",
     "text": [
      "* * * * * \n",
      "*       * \n",
      "*       * \n",
      "*       * \n",
      "* * * * * \n"
     ]
    }
   ],
   "source": [
    "num = 5\n",
    "for i in range (1,num+1):\n",
    "    for j in range (1,num+1):\n",
    "        if i == 1 or j==1 or j==num or i==num:\n",
    "            print(\"*\" ,end = \" \")\n",
    "        else :\n",
    "            print(\" \", end = \" \")\n",
    "        \n",
    "\n",
    "    print()"
   ]
  },
  {
   "cell_type": "code",
   "execution_count": 121,
   "id": "ded746ff-5c8b-414e-bbe2-63e015cd79cb",
   "metadata": {},
   "outputs": [
    {
     "name": "stdout",
     "output_type": "stream",
     "text": [
      "* * * * * \n",
      "*     * \n",
      "*   * \n",
      "* * \n",
      "* \n"
     ]
    }
   ],
   "source": [
    "num = 5\n",
    "for i in range (1,num+1):\n",
    "    for j in range (num,i-1,-1):\n",
    "        if i == 1 or j==num or i==j:\n",
    "            print(\"*\" ,end = \" \")\n",
    "        else :\n",
    "            print(\" \", end = \" \")\n",
    "        \n",
    "\n",
    "    print()"
   ]
  },
  {
   "cell_type": "code",
   "execution_count": 119,
   "id": "4d6cea28-52c9-48af-9cec-56cb7a8b23b9",
   "metadata": {},
   "outputs": [
    {
     "name": "stdout",
     "output_type": "stream",
     "text": [
      "* * * * * \n",
      "* *     * \n",
      "*   *   * \n",
      "*     * * \n",
      "* * * * * \n"
     ]
    }
   ],
   "source": [
    "num = 5\n",
    "for i in range (1,num+1):\n",
    "    for j in range (1,num+1):\n",
    "        if i == 1 or j==1 or j==num or i==num or i==j:\n",
    "            print(\"*\" ,end = \" \")\n",
    "        else :\n",
    "            print(\" \", end = \" \")\n",
    "        \n",
    "\n",
    "    print()"
   ]
  },
  {
   "cell_type": "code",
   "execution_count": 128,
   "id": "c61c9a9d-9916-4ad7-8def-8abd1ba490c6",
   "metadata": {},
   "outputs": [
    {
     "name": "stdout",
     "output_type": "stream",
     "text": [
      "* * * * * \n",
      "* *     \n",
      "*   * \n",
      "*   \n",
      "* \n"
     ]
    }
   ],
   "source": [
    "num = 5\n",
    "x=num\n",
    "for i in range (1,num+1):\n",
    "    for j in range (1,num+2-i):\n",
    "        if i == 1 or j==1 or i==j:\n",
    "            print(\"*\" ,end = \" \")\n",
    "        else :\n",
    "            print(\" \", end = \" \")\n",
    "    x-=1   \n",
    "\n",
    "    print()"
   ]
  },
  {
   "cell_type": "code",
   "execution_count": null,
   "id": "3aede75a-0117-4a42-807d-18d0931fbab9",
   "metadata": {},
   "outputs": [],
   "source": []
  }
 ],
 "metadata": {
  "kernelspec": {
   "display_name": "Python 3 (ipykernel)",
   "language": "python",
   "name": "python3"
  },
  "language_info": {
   "codemirror_mode": {
    "name": "ipython",
    "version": 3
   },
   "file_extension": ".py",
   "mimetype": "text/x-python",
   "name": "python",
   "nbconvert_exporter": "python",
   "pygments_lexer": "ipython3",
   "version": "3.12.7"
  }
 },
 "nbformat": 4,
 "nbformat_minor": 5
}
