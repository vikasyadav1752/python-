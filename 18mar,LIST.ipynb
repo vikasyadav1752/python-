{
 "cells": [
  {
   "cell_type": "markdown",
   "id": "4a70a3ef-b159-4431-a471-9c07d325eb23",
   "metadata": {},
   "source": [
    "add a number with the help of two list values"
   ]
  },
  {
   "cell_type": "code",
   "execution_count": 5,
   "id": "be93083f-96e7-4076-8f99-642449e91b15",
   "metadata": {},
   "outputs": [
    {
     "name": "stdout",
     "output_type": "stream",
     "text": [
      "----\n",
      "----\n",
      "2 7\n",
      "----\n",
      "----\n",
      "----\n",
      "----\n",
      "----\n"
     ]
    }
   ],
   "source": [
    "mylist = [0,1,2,4,7,14,28]\n",
    "target = 9\n",
    "for index in range (0,len(mylist)):\n",
    "    for j in range (index+1,len(mylist)):\n",
    "        if (mylist[index] + mylist[j]== target):\n",
    "            print(mylist[index],mylist[j])\n",
    "\n",
    "    print(\"----\")"
   ]
  },
  {
   "cell_type": "code",
   "execution_count": 15,
   "id": "69513912-0ab0-457b-a3bf-4939b7604b5e",
   "metadata": {},
   "outputs": [
    {
     "name": "stdout",
     "output_type": "stream",
     "text": [
      "---------\n",
      "---------\n",
      "---------\n",
      "---------\n",
      "---------\n",
      "---------\n",
      "---------\n",
      "count=> 7\n"
     ]
    }
   ],
   "source": [
    "mylist = [10,20,10,30,10,10,40,40]\n",
    "count = 0\n",
    "for i in range (0,len(mylist)):\n",
    "    for j in range (i+1,len(mylist)):\n",
    "        if(mylist[i]==mylist[j]):\n",
    "            count+=1\n",
    "        \n",
    "            print(\"---------\")\n",
    "  \n",
    "print(\"count=>\",count)"
   ]
  },
  {
   "cell_type": "markdown",
   "id": "72fc8632-a505-4d0a-9d92-bf8bfc7d9ab2",
   "metadata": {},
   "source": [
    "### leetcode question of list"
   ]
  },
  {
   "cell_type": "code",
   "execution_count": 3,
   "id": "23cc1d53-81fb-4f19-9543-25e42986ef46",
   "metadata": {},
   "outputs": [],
   "source": [
    "data = [-2,-1,0,1,2,4,14,28]\n",
    "start = 0\n",
    "end = len(data)-1\n",
    "target = 8\n",
    "while(start<end):\n",
    "    if (data[start]+data[end] == target):\n",
    "        print(data[start],data[end])\n",
    "        break\n",
    "\n",
    "    elif (data[start]+ data[end] > target):\n",
    "        end-=1\n",
    "\n",
    "    else:\n",
    "        start +=1"
   ]
  },
  {
   "cell_type": "markdown",
   "id": "190955ad-0858-4da2-849a-ed30a1d43bf5",
   "metadata": {},
   "source": [
    "## concurrent value in a string"
   ]
  },
  {
   "cell_type": "code",
   "execution_count": 15,
   "id": "0c087150-fcfb-4d9e-b991-cd66b2fad2f0",
   "metadata": {},
   "outputs": [
    {
     "name": "stdout",
     "output_type": "stream",
     "text": [
      "not\n"
     ]
    }
   ],
   "source": [
    "data  = \"tyt\"\n",
    "s = 1\n",
    "e=s+1\n",
    "while(s<e):\n",
    "    if (data[s] == data[e]):\n",
    "        print(\"concurrent\")\n",
    "        break\n",
    "    else:\n",
    "        print(\"not\")\n",
    "        break"
   ]
  },
  {
   "cell_type": "code",
   "execution_count": 16,
   "id": "92807abe-fcb0-429c-8a4a-655ca690ae57",
   "metadata": {},
   "outputs": [
    {
     "name": "stdout",
     "output_type": "stream",
     "text": [
      "not\n"
     ]
    }
   ],
   "source": [
    "data  = \"tyt\"\n",
    "s = 1\n",
    "e=s+1\n",
    "while(s<e):\n",
    "    if (data[s] == data[e]):\n",
    "        print(\"concurrent\")\n",
    "        break\n",
    "    else:\n",
    "        print(\"not\")\n",
    "        s+=1\n",
    "        e-=1"
   ]
  },
  {
   "cell_type": "code",
   "execution_count": 17,
   "id": "d7b7d422-6eee-41bc-9c38-88677cced3a5",
   "metadata": {},
   "outputs": [
    {
     "name": "stdout",
     "output_type": "stream",
     "text": [
      "valid paranethesis\n"
     ]
    }
   ],
   "source": [
    "openB = False \n",
    "data = \"()\"\n",
    "for char in data  :\n",
    "    if char == \"(\":\n",
    "        openB = True \n",
    "    else :\n",
    "        if (char == \")\" and openB == True ):\n",
    "            print((\"valid paranethesis\"))\n",
    "\n",
    "        else :\n",
    "            print(\"invalid\")\n",
    "        "
   ]
  },
  {
   "cell_type": "code",
   "execution_count": 23,
   "id": "39180d12-a161-465e-9ccd-2c92c5e9bf88",
   "metadata": {},
   "outputs": [
    {
     "name": "stdout",
     "output_type": "stream",
     "text": [
      "valid paranthesis\n"
     ]
    }
   ],
   "source": [
    "openB = False \n",
    "x = 0\n",
    "data = \"()\"\n",
    "for char in data  :\n",
    "    if char == \"(\":\n",
    "        openB = True \n",
    "    elif(openB):\n",
    "        if (char == \")\" and openB == True ):\n",
    "            x=1\n",
    "    else :\n",
    "        x=0\n",
    "if (x==0 ):\n",
    "    print(\"invalid\")\n",
    "\n",
    "else :\n",
    "    print(\"valid paranthesis\")\n",
    "    "
   ]
  },
  {
   "cell_type": "markdown",
   "id": "cf8c3086-6dfb-4508-bd1e-61b61873f9bb",
   "metadata": {},
   "source": [
    "## leetcode question of valid paranthesis "
   ]
  },
  {
   "cell_type": "code",
   "execution_count": 18,
   "id": "7f55bee7-f447-44b2-954b-e8d2c7ba01fe",
   "metadata": {},
   "outputs": [
    {
     "name": "stdout",
     "output_type": "stream",
     "text": [
      "valid paranthesis\n"
     ]
    }
   ],
   "source": [
    "openB = []\n",
    "x = 0\n",
    "data = \"()\"\n",
    "for char in data  :\n",
    "    if char == \"(\":\n",
    "        openB.append(char)\n",
    "    elif(openB):\n",
    "        if(char==\")\" and \"(\" == openB.pop()):\n",
    "            x=1\n",
    "    else :\n",
    "        x=0\n",
    "if (x==0 or len(openB) > 0 ):\n",
    "    print(\"invalid\")\n",
    "\n",
    "else :\n",
    "    print(\"valid paranthesis\")\n",
    "    "
   ]
  },
  {
   "cell_type": "code",
   "execution_count": null,
   "id": "fa9ee2f8-dbad-4302-bb42-1c2f76691f09",
   "metadata": {},
   "outputs": [],
   "source": []
  },
  {
   "cell_type": "code",
   "execution_count": null,
   "id": "f65b4029-a97c-4e28-b919-1ba8ac1527aa",
   "metadata": {},
   "outputs": [],
   "source": []
  }
 ],
 "metadata": {
  "kernelspec": {
   "display_name": "Python 3 (ipykernel)",
   "language": "python",
   "name": "python3"
  },
  "language_info": {
   "codemirror_mode": {
    "name": "ipython",
    "version": 3
   },
   "file_extension": ".py",
   "mimetype": "text/x-python",
   "name": "python",
   "nbconvert_exporter": "python",
   "pygments_lexer": "ipython3",
   "version": "3.12.7"
  }
 },
 "nbformat": 4,
 "nbformat_minor": 5
}
