{
 "cells": [
  {
   "cell_type": "code",
   "execution_count": null,
   "id": "7f2d82e2",
   "metadata": {},
   "outputs": [],
   "source": [
    "import numpy as np\n",
    "from sklearn.ensemble import RandomForestClassifier\n",
    "from sklearn.datasets import make_classification\n",
    "from sklearn.model_selection import train_test_split\n",
    "from sklearn.metrics import accuracy_score\n",
    "\n",
    "# Generate a synthetic dataset\n",
    "X, y = make_classification(n_samples=1000, n_features=20, random_state=42)\n",
    "\n",
    "# Split the dataset into training and testing sets\n",
    "X_train, X_test, y_train, y_test = train_test_split(X, y, test_size=0.2, \n",
    "                                                    random_state=42)\n",
    "\n",
    "# Initialize a list to store the base learners\n",
    "base_learners = []\n",
    "\n",
    "# Number of base learners (decision trees)\n",
    "num_base_learners = 10\n",
    "\n",
    "# Train the base learners\n",
    "for i in range(num_base_learners):\n",
    "    # Create a bootstrap sample of the training data\n",
    "    bootstrap_indices = np.random.choice(len(X_train), size=len(X_train), \n",
    "                                         replace=True)\n",
    "    X_bootstrap = X_train[bootstrap_indices]\n",
    "    y_bootstrap = y_train[bootstrap_indices]\n",
    "    \n",
    "    # Create and train a base learner (Random Forest)\n",
    "    base_learner = RandomForestClassifier(n_estimators=10, random_state=42)\n",
    "    base_learner.fit(X_bootstrap, y_bootstrap)\n",
    "    \n",
    "    # Add the trained base learner to the list\n",
    "    base_learners.append(base_learner)\n",
    "\n",
    "# Make predictions with each base learner\n",
    "base_predictions = []\n",
    "for base_learner in base_learners:\n",
    "    y_pred = base_learner.predict(X_test)\n",
    "    base_predictions.append(y_pred)\n",
    "\n",
    "# Combine the predictions using majority voting\n",
    "ensemble_predictions = np.round(np.mean(base_predictions, axis=0))\n",
    "\n",
    "# Calculate the accuracy of the ensemble predictions\n",
    "accuracy = accuracy_score(y_test, ensemble_predictions)\n",
    "print(\"Ensemble Accuracy:\", accuracy)\n"
   ]
  }
 ],
 "metadata": {
  "kernelspec": {
   "display_name": "Python 3 (ipykernel)",
   "language": "python",
   "name": "python3"
  },
  "language_info": {
   "codemirror_mode": {
    "name": "ipython",
    "version": 3
   },
   "file_extension": ".py",
   "mimetype": "text/x-python",
   "name": "python",
   "nbconvert_exporter": "python",
   "pygments_lexer": "ipython3",
   "version": "3.9.12"
  }
 },
 "nbformat": 4,
 "nbformat_minor": 5
}
