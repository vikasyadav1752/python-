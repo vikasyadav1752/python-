{
 "cells": [
  {
   "cell_type": "markdown",
   "id": "75d1272f-63cd-4725-bd74-38c414361f76",
   "metadata": {},
   "source": [
    "Given a list of numbers, write a program to add a constant value to all elements."
   ]
  },
  {
   "cell_type": "code",
   "execution_count": 11,
   "id": "75063b61-3ea8-4128-983c-3fd04ebbe494",
   "metadata": {},
   "outputs": [
    {
     "name": "stdout",
     "output_type": "stream",
     "text": [
      "[6, 7, 8, 9, 10, 11]\n"
     ]
    }
   ],
   "source": [
    "ls = [1,2,3,4,5,6]\n",
    "a = 5\n",
    "nl = []\n",
    "for i in ls :\n",
    "    nl.append(i+a)\n",
    "print(nl)"
   ]
  },
  {
   "cell_type": "code",
   "execution_count": 6,
   "id": "f266fd85-01eb-49f8-8c48-fb0d558f3bf9",
   "metadata": {},
   "outputs": [
    {
     "name": "stdout",
     "output_type": "stream",
     "text": [
      "[6, 7, 8, 9, 10, 11]\n"
     ]
    }
   ],
   "source": [
    "ls = [1,2,3,4,5,6]\n",
    "a = 5\n",
    "nl  = [i+a for i in ls]\n",
    "print(nl)"
   ]
  },
  {
   "cell_type": "markdown",
   "id": "ecb099a4-1f09-4dc1-8f76-3683292bfffd",
   "metadata": {},
   "source": [
    "Add a number with the help of two list values with while loop (2 pointer approach)."
   ]
  },
  {
   "cell_type": "code",
   "execution_count": 7,
   "id": "185cb6e2-159f-4c20-90d2-5b1ef52fef84",
   "metadata": {},
   "outputs": [
    {
     "name": "stdout",
     "output_type": "stream",
     "text": [
      "1 6\n"
     ]
    }
   ],
   "source": [
    "ls = [1,2,3,4,5,6]\n",
    "s = 0\n",
    "e = len(ls)-1\n",
    "t = 7\n",
    "while(s<e):\n",
    "    if(ls[s] + ls[e] == t):\n",
    "        print(ls[s],ls[e])\n",
    "        break\n",
    "\n",
    "    elif(ls[s]+ls[e] > t):\n",
    "        e-=1\n",
    "\n",
    "    else : \n",
    "        s+=1"
   ]
  },
  {
   "cell_type": "markdown",
   "id": "d115b18d-6e47-4db9-8542-ac791d05ecff",
   "metadata": {},
   "source": [
    "How would you count the occurrences of each element in a list and return a dictionary of counts?"
   ]
  },
  {
   "cell_type": "code",
   "execution_count": 8,
   "id": "0d5f0d0b-d2d5-4035-a956-af9a01dc2339",
   "metadata": {},
   "outputs": [
    {
     "name": "stdout",
     "output_type": "stream",
     "text": [
      "{1: 1, 2: 1, 3: 1, 4: 1, 5: 1, 6: 1}\n"
     ]
    }
   ],
   "source": [
    "ls = [1,2,3,4,5,6]\n",
    "cd = {}\n",
    "for num in ls:\n",
    "    if num in cd:\n",
    "        cd[num]+=1\n",
    "\n",
    "    else :\n",
    "        cd[num] = 1\n",
    "\n",
    "print(cd)"
   ]
  },
  {
   "cell_type": "markdown",
   "id": "3a3801c7-5c0b-4a74-b908-f5f788add566",
   "metadata": {},
   "source": [
    "Write a program to find the first duplicate element in a list.\n"
   ]
  },
  {
   "cell_type": "code",
   "execution_count": 9,
   "id": "02bb0059-f42f-4d81-9bac-b95bdc2a8a13",
   "metadata": {},
   "outputs": [
    {
     "name": "stdout",
     "output_type": "stream",
     "text": [
      "First Duplicate Element: 2\n"
     ]
    }
   ],
   "source": [
    "lst = [1, 2, 3, 4, 2, 5, 6, 3, 7]\n",
    "\n",
    "seen = []  # Using a list instead of a set\n",
    "first_duplicate = None\n",
    "\n",
    "for num in lst:\n",
    "    found = False  # Flag to check if num is already in seen\n",
    "    for s in seen:\n",
    "        if s == num:  # Manually checking for duplicates\n",
    "            first_duplicate = num\n",
    "            found = True\n",
    "            break\n",
    "    if found:\n",
    "        break\n",
    "    seen.append(num)  # Add to seen list\n",
    "\n",
    "print(\"First Duplicate Element:\", first_duplicate)\n"
   ]
  },
  {
   "cell_type": "code",
   "execution_count": 10,
   "id": "216f2ddb-7317-432c-94dd-eae182cd482a",
   "metadata": {},
   "outputs": [
    {
     "name": "stdout",
     "output_type": "stream",
     "text": [
      "valid\n"
     ]
    }
   ],
   "source": [
    "openb = []\n",
    "x = 0\n",
    "d = \"()\"\n",
    "for char in d:\n",
    "    if char == \"(\":\n",
    "        openb.append(char)\n",
    "\n",
    "    elif (openb):\n",
    "        if(char==\")\" and \"(\" == openb.pop()):\n",
    "            x=1\n",
    "        else:\n",
    "            x=0\n",
    "\n",
    "if(x==0 or len(openb)>0):\n",
    "    print(\"invalid\")\n",
    "\n",
    "else:\n",
    "    print(\"valid\")\n",
    "    "
   ]
  },
  {
   "cell_type": "code",
   "execution_count": 15,
   "id": "089fcf2c-e918-4964-aa5f-378576cfcb88",
   "metadata": {},
   "outputs": [
    {
     "name": "stdout",
     "output_type": "stream",
     "text": [
      "2 5\n"
     ]
    }
   ],
   "source": [
    "ls = [1,2,3,4,5]\n",
    "s = 0\n",
    "e = len(ls)-1\n",
    "t = 7\n",
    "while(s<e):\n",
    "    if(ls[s]+ls[e]==t):\n",
    "        print(ls[s],ls[e])\n",
    "        break\n",
    "    elif(ls[s]+ls[e]>t):\n",
    "        e-=1\n",
    "    else:\n",
    "        s+=1"
   ]
  },
  {
   "cell_type": "code",
   "execution_count": 18,
   "id": "dd424ff5-5072-4c29-b9ec-fb7156e9eae3",
   "metadata": {},
   "outputs": [
    {
     "name": "stdout",
     "output_type": "stream",
     "text": [
      "{1: 1, 5: 3, 2: 2, 4: 2, 3: 2, 6: 1}\n"
     ]
    }
   ],
   "source": [
    "ls = (1,5,2,4,3,5,2,3,4,5,6)\n",
    "cd = {}\n",
    "for i in ls:\n",
    "    if i in cd:\n",
    "        cd[i]+=1\n",
    "\n",
    "    else:\n",
    "        cd[i] =1\n",
    "\n",
    "\n",
    "print(cd)"
   ]
  },
  {
   "cell_type": "code",
   "execution_count": null,
   "id": "fbb988fe-da11-4173-be23-d2e43896303f",
   "metadata": {},
   "outputs": [],
   "source": []
  }
 ],
 "metadata": {
  "kernelspec": {
   "display_name": "Python 3 (ipykernel)",
   "language": "python",
   "name": "python3"
  },
  "language_info": {
   "codemirror_mode": {
    "name": "ipython",
    "version": 3
   },
   "file_extension": ".py",
   "mimetype": "text/x-python",
   "name": "python",
   "nbconvert_exporter": "python",
   "pygments_lexer": "ipython3",
   "version": "3.12.7"
  }
 },
 "nbformat": 4,
 "nbformat_minor": 5
}
